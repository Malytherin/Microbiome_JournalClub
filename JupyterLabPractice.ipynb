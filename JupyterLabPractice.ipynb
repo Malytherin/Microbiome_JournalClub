{
 "cells": [
  {
   "cell_type": "code",
   "execution_count": 1,
   "id": "caf316cd-b416-48af-9b56-fe5e0c1d3eb8",
   "metadata": {},
   "outputs": [
    {
     "data": {
      "text/html": [
       "'/Users/morganmaly/GitHub/Microbiome_JournalClub'"
      ],
      "text/latex": [
       "'/Users/morganmaly/GitHub/Microbiome\\_JournalClub'"
      ],
      "text/markdown": [
       "'/Users/morganmaly/GitHub/Microbiome_JournalClub'"
      ],
      "text/plain": [
       "[1] \"/Users/morganmaly/GitHub/Microbiome_JournalClub\""
      ]
     },
     "metadata": {},
     "output_type": "display_data"
    }
   ],
   "source": [
    "getwd()"
   ]
  },
  {
   "cell_type": "code",
   "execution_count": null,
   "id": "e3646c7e-aeed-4234-859e-f2a0b85fdd98",
   "metadata": {},
   "outputs": [],
   "source": [
    "setwd()"
   ]
  },
  {
   "cell_type": "code",
   "execution_count": 2,
   "id": "70f7a6dc-c6f5-4dda-9323-4d726348dbb6",
   "metadata": {
    "tags": []
   },
   "outputs": [],
   "source": [
    "install.packages(\"AER\")"
   ]
  },
  {
   "cell_type": "code",
   "execution_count": 3,
   "id": "41aa101f-2faa-44c9-8b12-c7950636e568",
   "metadata": {
    "tags": []
   },
   "outputs": [
    {
     "name": "stderr",
     "output_type": "stream",
     "text": [
      "Loading required package: car\n",
      "\n",
      "Loading required package: carData\n",
      "\n",
      "Loading required package: lmtest\n",
      "\n",
      "Loading required package: zoo\n",
      "\n",
      "\n",
      "Attaching package: ‘zoo’\n",
      "\n",
      "\n",
      "The following objects are masked from ‘package:base’:\n",
      "\n",
      "    as.Date, as.Date.numeric\n",
      "\n",
      "\n",
      "Loading required package: sandwich\n",
      "\n",
      "Loading required package: survival\n",
      "\n"
     ]
    }
   ],
   "source": [
    "library(AER)"
   ]
  },
  {
   "cell_type": "markdown",
   "id": "59dbbc75-bf80-4f15-82f0-105a718a324d",
   "metadata": {},
   "source": [
    "# Heading\n",
    "## Heading \n",
    "### Heading\n",
    "*italics*\n",
    "**bold**\n",
    "- unordered list\n",
    "-unordered list\n",
    "1. ordered list\n",
    "2. ordered list\n",
    "> blockquote\n",
    "---\n",
    "\n",
    "Type some `inline code` and the rest of your text.\n",
    "\n",
    "Or type in a block of code\n",
    "```\n",
    "using 3 backticks\n",
    "then ending with 3 more backticks\n",
    "```\n",
    "$x2$ to create equations\n"
   ]
  }
 ],
 "metadata": {
  "kernelspec": {
   "display_name": "R",
   "language": "R",
   "name": "ir"
  },
  "language_info": {
   "codemirror_mode": "r",
   "file_extension": ".r",
   "mimetype": "text/x-r-source",
   "name": "R",
   "pygments_lexer": "r",
   "version": "4.0.3"
  }
 },
 "nbformat": 4,
 "nbformat_minor": 5
}
