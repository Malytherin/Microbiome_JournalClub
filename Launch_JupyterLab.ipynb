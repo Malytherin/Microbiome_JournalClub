{
 "cells": [
  {
   "cell_type": "markdown",
   "id": "e03c252f-0d94-4d2c-a983-7a15e865c94d",
   "metadata": {},
   "source": [
    "Launch Jupyter Lab in Terminal"
   ]
  },
  {
   "cell_type": "code",
   "execution_count": null,
   "id": "202a9bc4-a154-4c53-b733-0b3ee4147e1a",
   "metadata": {},
   "outputs": [],
   "source": [
    "jupyter lab"
   ]
  },
  {
   "cell_type": "markdown",
   "id": "0f8be375-afd7-41b9-8382-07dbffac47b4",
   "metadata": {},
   "source": [
    "To exit Jupyter lab, save all your documents, make your commits, and push commits in GitHub."
   ]
  },
  {
   "cell_type": "markdown",
   "id": "edc4a740-7bcc-4ff5-9e24-3ec7c5f6332c",
   "metadata": {},
   "source": [
    "Then in Terminal use the follow key shortcut:"
   ]
  },
  {
   "cell_type": "code",
   "execution_count": null,
   "id": "722eec98-ee71-4564-97dc-1f8a38d018a9",
   "metadata": {},
   "outputs": [],
   "source": [
    "Ctrl C"
   ]
  },
  {
   "cell_type": "markdown",
   "id": "29be9802-4432-4e50-b0c4-c661296a9454",
   "metadata": {},
   "source": [
    "In terminal it will ask you if you want to exit (y/n)"
   ]
  },
  {
   "cell_type": "code",
   "execution_count": null,
   "id": "66f27978-f7bd-4f46-b438-1878d335d2a5",
   "metadata": {},
   "outputs": [],
   "source": [
    "y"
   ]
  }
 ],
 "metadata": {
  "kernelspec": {
   "display_name": "Python 3",
   "language": "python",
   "name": "python3"
  },
  "language_info": {
   "codemirror_mode": {
    "name": "ipython",
    "version": 3
   },
   "file_extension": ".py",
   "mimetype": "text/x-python",
   "name": "python",
   "nbconvert_exporter": "python",
   "pygments_lexer": "ipython3",
   "version": "3.8.3"
  }
 },
 "nbformat": 4,
 "nbformat_minor": 5
}
